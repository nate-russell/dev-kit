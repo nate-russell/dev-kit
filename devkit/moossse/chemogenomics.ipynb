{
 "cells": [
  {
   "cell_type": "code",
   "execution_count": 3,
   "metadata": {},
   "outputs": [],
   "source": [
    "%load_ext autoreload\n",
    "%autoreload 2"
   ]
  },
  {
   "cell_type": "code",
   "execution_count": 1,
   "metadata": {},
   "outputs": [
    {
     "name": "stdout",
     "output_type": "stream",
     "text": [
      "about-time==4.2.1\n",
      "alive-progress==3.1.5\n",
      "asttokens @ file:///home/conda/feedstock_root/build_artifacts/asttokens_1698341106958/work\n",
      "autograd==1.6.2\n",
      "beautifulsoup4==4.12.2\n",
      "blinker==1.7.0\n",
      "Brotli==1.1.0\n",
      "certifi==2023.11.17\n",
      "charset-normalizer==3.3.2\n",
      "click==8.1.7\n",
      "cma==3.2.2\n",
      "colorama @ file:///home/conda/feedstock_root/build_artifacts/colorama_1666700638685/work\n",
      "comm @ file:///home/conda/feedstock_root/build_artifacts/comm_1691044910542/work\n",
      "contourpy==1.2.0\n",
      "cycler==0.12.1\n",
      "debugpy @ file:///C:/b/abs_c0y1fjipt2/croot/debugpy_1690906864587/work\n",
      "decorator @ file:///home/conda/feedstock_root/build_artifacts/decorator_1641555617451/work\n",
      "Deprecated==1.2.14\n",
      "-e git+https://github.com/nate-russell/dev-kit.git@2349b7aadb5e1f94b48aab81420169297f8b543e#egg=dev_kit\n",
      "-e git+https://github.com/nate-russell/dev-kit.git@2349b7aadb5e1f94b48aab81420169297f8b543e#egg=devkit\n",
      "dill==0.3.7\n",
      "exceptiongroup @ file:///home/conda/feedstock_root/build_artifacts/exceptiongroup_1700579780973/work\n",
      "executing @ file:///home/conda/feedstock_root/build_artifacts/executing_1698579936712/work\n",
      "Flask==3.0.0\n",
      "Flask-Compress==1.14\n",
      "fonttools==4.46.0\n",
      "future==0.18.3\n",
      "grapheme==0.6.0\n",
      "hiplot==0.1.33\n",
      "idna==3.6\n",
      "importlib-metadata @ file:///home/conda/feedstock_root/build_artifacts/importlib-metadata_1701632192416/work\n",
      "ipykernel @ file:///D:/bld/ipykernel_1698244157926/work\n",
      "ipython @ file:///D:/bld/ipython_1701831845989/work\n",
      "ipywidgets==8.1.1\n",
      "itsdangerous==2.1.2\n",
      "jedi @ file:///home/conda/feedstock_root/build_artifacts/jedi_1696326070614/work\n",
      "Jinja2==3.1.2\n",
      "jupyter_client @ file:///home/conda/feedstock_root/build_artifacts/jupyter_client_1699283905679/work\n",
      "jupyter_core @ file:///D:/bld/jupyter_core_1698673856358/work\n",
      "jupyterlab-widgets==3.0.9\n",
      "kiwisolver==1.4.5\n",
      "MarkupSafe==2.1.3\n",
      "matplotlib==3.8.2\n",
      "matplotlib-inline @ file:///home/conda/feedstock_root/build_artifacts/matplotlib-inline_1660814786464/work\n",
      "nest-asyncio @ file:///home/conda/feedstock_root/build_artifacts/nest-asyncio_1697083700168/work\n",
      "numpy==1.26.2\n",
      "packaging @ file:///home/conda/feedstock_root/build_artifacts/packaging_1696202382185/work\n",
      "pandas==2.1.4\n",
      "parso @ file:///home/conda/feedstock_root/build_artifacts/parso_1638334955874/work\n",
      "pickleshare @ file:///home/conda/feedstock_root/build_artifacts/pickleshare_1602536217715/work\n",
      "Pillow==10.1.0\n",
      "platformdirs @ file:///home/conda/feedstock_root/build_artifacts/platformdirs_1701708255999/work\n",
      "prompt-toolkit @ file:///home/conda/feedstock_root/build_artifacts/prompt-toolkit_1702399386289/work\n",
      "psutil @ file:///C:/Windows/Temp/abs_b2c2fd7f-9fd5-4756-95ea-8aed74d0039flsd9qufz/croots/recipe/psutil_1656431277748/work\n",
      "pure-eval @ file:///home/conda/feedstock_root/build_artifacts/pure_eval_1642875951954/work\n",
      "Pygments @ file:///home/conda/feedstock_root/build_artifacts/pygments_1700607939962/work\n",
      "pymoo==0.6.1.1\n",
      "pyparsing==3.1.1\n",
      "python-dateutil @ file:///home/conda/feedstock_root/build_artifacts/python-dateutil_1626286286081/work\n",
      "pytz==2023.3.post1\n",
      "pywin32==305.1\n",
      "PyYAML==6.0.1\n",
      "pyzmq @ file:///D:/bld/pyzmq_1660329059232/work\n",
      "rdkit==2023.9.3\n",
      "requests==2.31.0\n",
      "scipy==1.11.4\n",
      "seaborn==0.13.0\n",
      "six @ file:///home/conda/feedstock_root/build_artifacts/six_1620240208055/work\n",
      "soupsieve==2.5\n",
      "stack-data @ file:///home/conda/feedstock_root/build_artifacts/stack_data_1669632077133/work\n",
      "tornado @ file:///D:/bld/tornado_1656937966227/work\n",
      "tqdm==4.66.1\n",
      "traitlets @ file:///home/conda/feedstock_root/build_artifacts/traitlets_1701095650114/work\n",
      "typing_extensions @ file:///home/conda/feedstock_root/build_artifacts/typing_extensions_1702176139754/work\n",
      "tzdata==2023.3\n",
      "urllib3==2.1.0\n",
      "wcwidth @ file:///home/conda/feedstock_root/build_artifacts/wcwidth_1700607916581/work\n",
      "Werkzeug==3.0.1\n",
      "widgetsnbextension==4.0.9\n",
      "wrapt==1.16.0\n",
      "zipp @ file:///home/conda/feedstock_root/build_artifacts/zipp_1695255097490/work\n"
     ]
    }
   ],
   "source": [
    "! pip freeze"
   ]
  },
  {
   "cell_type": "code",
   "execution_count": 10,
   "metadata": {},
   "outputs": [],
   "source": [
    "from devkit.dataset import DataCatalog"
   ]
  },
  {
   "cell_type": "code",
   "execution_count": 8,
   "metadata": {},
   "outputs": [
    {
     "ename": "NameError",
     "evalue": "name 'DataCatalog' is not defined",
     "output_type": "error",
     "traceback": [
      "\u001b[1;31m---------------------------------------------------------------------------\u001b[0m",
      "\u001b[1;31mNameError\u001b[0m                                 Traceback (most recent call last)",
      "Cell \u001b[1;32mIn[8], line 1\u001b[0m\n\u001b[1;32m----> 1\u001b[0m dc \u001b[38;5;241m=\u001b[39m \u001b[43mDataCatalog\u001b[49m()\n\u001b[0;32m      3\u001b[0m targets \u001b[38;5;241m=\u001b[39m dc\u001b[38;5;241m.\u001b[39mload(\u001b[38;5;124m'\u001b[39m\u001b[38;5;124mprobes_and_drugs_targets\u001b[39m\u001b[38;5;124m'\u001b[39m)\n\u001b[0;32m      4\u001b[0m compounds \u001b[38;5;241m=\u001b[39m dc\u001b[38;5;241m.\u001b[39mload(\u001b[38;5;124m'\u001b[39m\u001b[38;5;124mprobes_and_drugs_compounds\u001b[39m\u001b[38;5;124m'\u001b[39m)\n",
      "\u001b[1;31mNameError\u001b[0m: name 'DataCatalog' is not defined"
     ]
    }
   ],
   "source": [
    "dc = DataCatalog()\n",
    "\n",
    "targets = dc.load('probes_and_drugs_targets')\n",
    "compounds = dc.load('probes_and_drugs_compounds')"
   ]
  }
 ],
 "metadata": {
  "kernelspec": {
   "display_name": "Python 3",
   "language": "python",
   "name": "python3"
  },
  "language_info": {
   "codemirror_mode": {
    "name": "ipython",
    "version": 3
   },
   "file_extension": ".py",
   "mimetype": "text/x-python",
   "name": "python",
   "nbconvert_exporter": "python",
   "pygments_lexer": "ipython3",
   "version": "3.10.13"
  }
 },
 "nbformat": 4,
 "nbformat_minor": 2
}
