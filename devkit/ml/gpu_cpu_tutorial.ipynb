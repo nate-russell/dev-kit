{
 "cells": [
  {
   "cell_type": "code",
   "execution_count": 1,
   "metadata": {},
   "outputs": [],
   "source": [
    "%load_ext autoreload\n",
    "%autoreload 2"
   ]
  },
  {
   "cell_type": "code",
   "execution_count": 2,
   "metadata": {},
   "outputs": [],
   "source": [
    "from devkit.ml import NvidiaSmiLog\n",
    "from time import sleep"
   ]
  },
  {
   "cell_type": "code",
   "execution_count": 3,
   "metadata": {},
   "outputs": [
    {
     "name": "stdout",
     "output_type": "stream",
     "text": [
      "<class 'bytes'> b'timestamp, name, pci.bus_id, temperature.gpu, utilization.gpu [%], utilization.memory [%]\\r\\n2024/01/10 21:37:36.138, NVIDIA GeForce GTX 1660 Ti, 00000000:01:00.0, 66, 6 %, 4 %\\r\\n2024/01/10 21:37:37.144, NVIDIA GeForce GTX 1660 Ti, 00000000:01:00.0, 66, 18 %, 8 %\\r\\n2024/01/10 21:37:38.151, NVIDIA GeForce GTX 1660 Ti, 00000000:01:00.0, 66, 19 %, 8 %\\r\\n2024/01/10 21:37:39.169, NVIDIA GeForce GTX 1660 Ti, 00000000:01:00.0, 66, 18 %, 8 %\\r\\n'\n"
     ]
    },
    {
     "data": {
      "text/html": [
       "<div>\n",
       "<style scoped>\n",
       "    .dataframe tbody tr th:only-of-type {\n",
       "        vertical-align: middle;\n",
       "    }\n",
       "\n",
       "    .dataframe tbody tr th {\n",
       "        vertical-align: top;\n",
       "    }\n",
       "\n",
       "    .dataframe thead th {\n",
       "        text-align: right;\n",
       "    }\n",
       "</style>\n",
       "<table border=\"1\" class=\"dataframe\">\n",
       "  <thead>\n",
       "    <tr style=\"text-align: right;\">\n",
       "      <th></th>\n",
       "      <th>timestamp</th>\n",
       "      <th>name</th>\n",
       "      <th>pci.bus_id</th>\n",
       "      <th>temperature.gpu</th>\n",
       "      <th>utilization.gpu [%]</th>\n",
       "      <th>utilization.memory [%]</th>\n",
       "    </tr>\n",
       "  </thead>\n",
       "  <tbody>\n",
       "    <tr>\n",
       "      <th>0</th>\n",
       "      <td>2024/01/10 21:37:36.138</td>\n",
       "      <td>NVIDIA GeForce GTX 1660 Ti</td>\n",
       "      <td>00000000:01:00.0</td>\n",
       "      <td>66</td>\n",
       "      <td>6 %</td>\n",
       "      <td>4 %</td>\n",
       "    </tr>\n",
       "    <tr>\n",
       "      <th>1</th>\n",
       "      <td>2024/01/10 21:37:37.144</td>\n",
       "      <td>NVIDIA GeForce GTX 1660 Ti</td>\n",
       "      <td>00000000:01:00.0</td>\n",
       "      <td>66</td>\n",
       "      <td>18 %</td>\n",
       "      <td>8 %</td>\n",
       "    </tr>\n",
       "    <tr>\n",
       "      <th>2</th>\n",
       "      <td>2024/01/10 21:37:38.151</td>\n",
       "      <td>NVIDIA GeForce GTX 1660 Ti</td>\n",
       "      <td>00000000:01:00.0</td>\n",
       "      <td>66</td>\n",
       "      <td>19 %</td>\n",
       "      <td>8 %</td>\n",
       "    </tr>\n",
       "    <tr>\n",
       "      <th>3</th>\n",
       "      <td>2024/01/10 21:37:39.169</td>\n",
       "      <td>NVIDIA GeForce GTX 1660 Ti</td>\n",
       "      <td>00000000:01:00.0</td>\n",
       "      <td>66</td>\n",
       "      <td>18 %</td>\n",
       "      <td>8 %</td>\n",
       "    </tr>\n",
       "  </tbody>\n",
       "</table>\n",
       "</div>"
      ],
      "text/plain": [
       "                 timestamp                         name         pci.bus_id  \\\n",
       "0  2024/01/10 21:37:36.138   NVIDIA GeForce GTX 1660 Ti   00000000:01:00.0   \n",
       "1  2024/01/10 21:37:37.144   NVIDIA GeForce GTX 1660 Ti   00000000:01:00.0   \n",
       "2  2024/01/10 21:37:38.151   NVIDIA GeForce GTX 1660 Ti   00000000:01:00.0   \n",
       "3  2024/01/10 21:37:39.169   NVIDIA GeForce GTX 1660 Ti   00000000:01:00.0   \n",
       "\n",
       "    temperature.gpu  utilization.gpu [%]  utilization.memory [%]  \n",
       "0                66                  6 %                     4 %  \n",
       "1                66                 18 %                     8 %  \n",
       "2                66                 19 %                     8 %  \n",
       "3                66                 18 %                     8 %  "
      ]
     },
     "execution_count": 3,
     "metadata": {},
     "output_type": "execute_result"
    }
   ],
   "source": [
    "nsl = NvidiaSmiLog()\n",
    "nsl.start()\n",
    "sleep(4)\n",
    "nsl.stop()\n",
    "nsl.df"
   ]
  },
  {
   "cell_type": "code",
   "execution_count": 4,
   "metadata": {},
   "outputs": [],
   "source": [
    "import matplotlib.pyplot as plt\n",
    "import seaborn as sns"
   ]
  },
  {
   "cell_type": "code",
   "execution_count": 6,
   "metadata": {},
   "outputs": [
    {
     "data": {
      "text/plain": [
       "Index(['timestamp', ' name', ' pci.bus_id', ' temperature.gpu',\n",
       "       ' utilization.gpu [%]', ' utilization.memory [%]'],\n",
       "      dtype='object')"
      ]
     },
     "execution_count": 6,
     "metadata": {},
     "output_type": "execute_result"
    }
   ],
   "source": [
    "nsl.df.columns"
   ]
  },
  {
   "cell_type": "code",
   "execution_count": 36,
   "metadata": {},
   "outputs": [
    {
     "data": {
      "text/html": [
       "<div>\n",
       "<style scoped>\n",
       "    .dataframe tbody tr th:only-of-type {\n",
       "        vertical-align: middle;\n",
       "    }\n",
       "\n",
       "    .dataframe tbody tr th {\n",
       "        vertical-align: top;\n",
       "    }\n",
       "\n",
       "    .dataframe thead th {\n",
       "        text-align: right;\n",
       "    }\n",
       "</style>\n",
       "<table border=\"1\" class=\"dataframe\">\n",
       "  <thead>\n",
       "    <tr style=\"text-align: right;\">\n",
       "      <th></th>\n",
       "      <th>timestamp</th>\n",
       "      <th>name</th>\n",
       "      <th>variable</th>\n",
       "      <th>value</th>\n",
       "    </tr>\n",
       "  </thead>\n",
       "  <tbody>\n",
       "    <tr>\n",
       "      <th>0</th>\n",
       "      <td>2024-01-10 21:37:36.138</td>\n",
       "      <td>NVIDIA GeForce GTX 1660 Ti</td>\n",
       "      <td>utilization.gpu</td>\n",
       "      <td>6.0</td>\n",
       "    </tr>\n",
       "    <tr>\n",
       "      <th>1</th>\n",
       "      <td>2024-01-10 21:37:37.144</td>\n",
       "      <td>NVIDIA GeForce GTX 1660 Ti</td>\n",
       "      <td>utilization.gpu</td>\n",
       "      <td>18.0</td>\n",
       "    </tr>\n",
       "    <tr>\n",
       "      <th>2</th>\n",
       "      <td>2024-01-10 21:37:38.151</td>\n",
       "      <td>NVIDIA GeForce GTX 1660 Ti</td>\n",
       "      <td>utilization.gpu</td>\n",
       "      <td>19.0</td>\n",
       "    </tr>\n",
       "    <tr>\n",
       "      <th>3</th>\n",
       "      <td>2024-01-10 21:37:39.169</td>\n",
       "      <td>NVIDIA GeForce GTX 1660 Ti</td>\n",
       "      <td>utilization.gpu</td>\n",
       "      <td>18.0</td>\n",
       "    </tr>\n",
       "    <tr>\n",
       "      <th>4</th>\n",
       "      <td>2024-01-10 21:37:36.138</td>\n",
       "      <td>NVIDIA GeForce GTX 1660 Ti</td>\n",
       "      <td>utilization.memory</td>\n",
       "      <td>4.0</td>\n",
       "    </tr>\n",
       "    <tr>\n",
       "      <th>5</th>\n",
       "      <td>2024-01-10 21:37:37.144</td>\n",
       "      <td>NVIDIA GeForce GTX 1660 Ti</td>\n",
       "      <td>utilization.memory</td>\n",
       "      <td>8.0</td>\n",
       "    </tr>\n",
       "    <tr>\n",
       "      <th>6</th>\n",
       "      <td>2024-01-10 21:37:38.151</td>\n",
       "      <td>NVIDIA GeForce GTX 1660 Ti</td>\n",
       "      <td>utilization.memory</td>\n",
       "      <td>8.0</td>\n",
       "    </tr>\n",
       "    <tr>\n",
       "      <th>7</th>\n",
       "      <td>2024-01-10 21:37:39.169</td>\n",
       "      <td>NVIDIA GeForce GTX 1660 Ti</td>\n",
       "      <td>utilization.memory</td>\n",
       "      <td>8.0</td>\n",
       "    </tr>\n",
       "  </tbody>\n",
       "</table>\n",
       "</div>"
      ],
      "text/plain": [
       "                timestamp                         name            variable  \\\n",
       "0 2024-01-10 21:37:36.138   NVIDIA GeForce GTX 1660 Ti     utilization.gpu   \n",
       "1 2024-01-10 21:37:37.144   NVIDIA GeForce GTX 1660 Ti     utilization.gpu   \n",
       "2 2024-01-10 21:37:38.151   NVIDIA GeForce GTX 1660 Ti     utilization.gpu   \n",
       "3 2024-01-10 21:37:39.169   NVIDIA GeForce GTX 1660 Ti     utilization.gpu   \n",
       "4 2024-01-10 21:37:36.138   NVIDIA GeForce GTX 1660 Ti  utilization.memory   \n",
       "5 2024-01-10 21:37:37.144   NVIDIA GeForce GTX 1660 Ti  utilization.memory   \n",
       "6 2024-01-10 21:37:38.151   NVIDIA GeForce GTX 1660 Ti  utilization.memory   \n",
       "7 2024-01-10 21:37:39.169   NVIDIA GeForce GTX 1660 Ti  utilization.memory   \n",
       "\n",
       "   value  \n",
       "0    6.0  \n",
       "1   18.0  \n",
       "2   19.0  \n",
       "3   18.0  \n",
       "4    4.0  \n",
       "5    8.0  \n",
       "6    8.0  \n",
       "7    8.0  "
      ]
     },
     "execution_count": 36,
     "metadata": {},
     "output_type": "execute_result"
    }
   ],
   "source": [
    "import pandas as pd\n",
    "dfm = pd.melt(nsl.df,id_vars=['timestamp','name'],value_vars=['utilization.gpu','utilization.memory'])\n",
    "dfm"
   ]
  },
  {
   "cell_type": "code",
   "execution_count": 38,
   "metadata": {},
   "outputs": [
    {
     "data": {
      "text/plain": [
       "Text(0, 0.5, 'Utilization %')"
      ]
     },
     "execution_count": 38,
     "metadata": {},
     "output_type": "execute_result"
    },
    {
     "data": {
      "image/png": "[encoded data removed]",
      "text/plain": [
       "<Figure size 640x480 with 1 Axes>"
      ]
     },
     "metadata": {},
     "output_type": "display_data"
    }
   ],
   "source": [
    "sns.lineplot(x=\"timestamp\", y=\"value\",style='variable',hue=\"name\",data=dfm)\n",
    "plt.xticks(rotation=90)\n",
    "plt.ylabel('Utilization %')"
   ]
  },
  {
   "cell_type": "code",
   "execution_count": null,
   "metadata": {},
   "outputs": [],
   "source": [
    "sns.lineplot(data=nsl.df,x='',y='', color=\"g\")\n",
    "ax2 = plt.twinx()\n",
    "sns.lineplot(data=nsl.df, color=\"b\", ax=ax2)\n",
    "plt.show()"
   ]
  }
 ],
 "metadata": {
  "kernelspec": {
   "display_name": "Python 3",
   "language": "python",
   "name": "python3"
  },
  "language_info": {
   "codemirror_mode": {
    "name": "ipython",
    "version": 3
   },
   "file_extension": ".py",
   "mimetype": "text/x-python",
   "name": "python",
   "nbconvert_exporter": "python",
   "pygments_lexer": "ipython3",
   "version": "3.10.13"
  }
 },
 "nbformat": 4,
 "nbformat_minor": 2
}
